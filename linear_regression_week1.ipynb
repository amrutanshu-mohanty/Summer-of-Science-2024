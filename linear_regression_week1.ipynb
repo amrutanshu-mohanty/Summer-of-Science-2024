{
  "nbformat": 4,
  "nbformat_minor": 0,
  "metadata": {
    "colab": {
      "provenance": []
    },
    "kernelspec": {
      "name": "python3",
      "display_name": "Python 3"
    },
    "language_info": {
      "name": "python"
    }
  },
  "cells": [
    {
      "cell_type": "code",
      "execution_count": 347,
      "metadata": {
        "id": "-zTLHrFCT6KY"
      },
      "outputs": [],
      "source": [
        "import numpy as np\n",
        "import pandas as pd\n",
        "import matplotlib.pyplot as plt\n",
        "\n",
        "# Aim is to predict the marks of students of the test data"
      ]
    },
    {
      "cell_type": "code",
      "source": [
        "# Use the file namd 'training data' to train the model\n",
        "\n",
        "data = pd.read_excel('Training data.xlsx')\n",
        "x_train = np.array(data.iloc[:,0:8])\n",
        "y_train = np.array(data.iloc[:,8]).reshape(-1,1)\n",
        "\n",
        "# Try plotting y_train with different features\n",
        "# To get an idea whether to add some features or not\n",
        "# Add some features if required in x_train\n",
        "data.head()\n",
        "# Also do label encoding for features not represented in numbers\n",
        "# refer the link if not know : https://youtu.be/589nCGeWG1w?si=t2Wa7LgbUOO4RooM\n",
        "def feature_changing(x_train):\n",
        "  mapping = {\"yes\": 1, \"no\": 0, \"M\":1, \"F\":0}\n",
        "  x_train[:,0] = np.vectorize(mapping.get)(x_train[:,0])\n",
        "  x_train[:,1] = np.vectorize(mapping.get)(x_train[:,1])\n",
        "  return x_train\n",
        "\n",
        "x_train = feature_changing(x_train)\n"
      ],
      "metadata": {
        "id": "p0KHq8ZgTpU4"
      },
      "execution_count": 348,
      "outputs": []
    },
    {
      "cell_type": "code",
      "source": [
        "def z_score(x_train):\n",
        "\n",
        "  # ---------\n",
        "    # write the code for feature scaling here\n",
        "    # Your code here\n",
        "    x_mean = np.mean(x_train, axis=0)\n",
        "    x_std = np.mean(x_train, axis=0)\n",
        "    x_train = (x_train-x_mean)/x_std\n",
        "  # ---------\n",
        "\n",
        "    return x_train,x_std,x_mean"
      ],
      "metadata": {
        "id": "tYshvtYlVour"
      },
      "execution_count": 349,
      "outputs": []
    },
    {
      "cell_type": "code",
      "source": [
        "def cost(x_train,y_train,w,b):\n",
        "\n",
        "  # ---------\n",
        "    # Your code here\n",
        "    # Use mean square error as cost function\n",
        "    # return cost\n",
        "  loss = 0\n",
        "  for i in range(x_train.shape[0]):\n",
        "    loss += (np.dot(w.flatten(), x_train[i])+b - y_train[i])**2\n",
        "  # ---------\n",
        "\n",
        "  return loss/y_train.shape[0]"
      ],
      "metadata": {
        "id": "O5dOwbNbWJWa"
      },
      "execution_count": 350,
      "outputs": []
    },
    {
      "cell_type": "code",
      "source": [
        "def gradient_descent(x_train,y_train,w,b):\n",
        "\n",
        "  # ---------\n",
        "    # Your code here\n",
        "    # Choose learning rate yourself\n",
        "  a = 0.5\n",
        "  grad_w = np.zeros(x_train[0].shape[0])\n",
        "  grad_b = 0\n",
        "  w = w.flatten()\n",
        "  for i in range(y_train.shape[0]):\n",
        "      grad_w = grad_w + (np.dot(w, x_train[i])+b - y_train[i])*x_train[i]\n",
        "      grad_b = grad_b + np.dot(w, x_train[i])+b - y_train[i]\n",
        "  grad_w /= y_train.shape[0]\n",
        "  grad_b /= y_train.shape[0]\n",
        "  # grad_w = np.dot(w*x_train+b - y_train, x_train)\n",
        "  #grad_b = np.sum(w*x_train+b - y_train, axis=0)/y_train.size\n",
        "  w = w - grad_w*a\n",
        "  w = w.reshape(-1,1)\n",
        "  b = b - grad_b*a\n",
        "  # ---------\n",
        "\n",
        "  return w,b"
      ],
      "metadata": {
        "id": "hW8p2cTNU74W"
      },
      "execution_count": 351,
      "outputs": []
    },
    {
      "cell_type": "code",
      "source": [
        "x_train = x_train.astype(np.float64)\n",
        "x_train,x_std,x_mean = z_score(x_train)\n",
        "\n",
        "np.random.seed(2147483647)\n",
        "w = np.random.randn(x_train.shape[1],1)\n",
        "b = np.random.randn(1)\n",
        "\n",
        "old_cost = 0\n",
        "\n",
        "while abs(old_cost - cost(x_train,y_train,w,b))>0.00001:\n",
        "  old_cost = cost(x_train,y_train,w,b)\n",
        "  # print(old_cost)\n",
        "  w,b = gradient_descent(x_train,y_train,w,b)\n",
        "  # print(w)\n",
        "\n",
        "x_predict = pd.read_excel('Test data.xlsx').iloc[:,:8].to_numpy()\n",
        "x_predict = feature_changing(x_predict)\n",
        "x_predict = (x_predict - x_mean)/x_std\n",
        "ans = pd.read_excel('Test data.xlsx').iloc[:,8].to_numpy()\n",
        "\n",
        "y_predict = np.dot(x_predict,w) + b\n",
        "\n",
        "accuracy = 0\n",
        "for dim in range(len(ans)):\n",
        "  if abs(y_predict[dim]-ans[dim])<0.5: # do not change the tolerance as you'll be checked on +- 0.5 error only\n",
        "    accuracy += 1\n",
        "accuracy = round(accuracy*100/200.0,2)\n",
        "ok = 'Congratulations' if accuracy>95 else 'Optimization required'\n",
        "print(f\"{ok}, your accuracy is {accuracy}%\")"
      ],
      "metadata": {
        "id": "Kl-fioJ5WkYn",
        "colab": {
          "base_uri": "https://localhost:8080/"
        },
        "outputId": "25f81e10-8c43-427f-dbcb-333d00648c3d"
      },
      "execution_count": 352,
      "outputs": [
        {
          "output_type": "stream",
          "name": "stdout",
          "text": [
            "Congratulations, your accuracy is 100.0%\n"
          ]
        }
      ]
    }
  ]
}