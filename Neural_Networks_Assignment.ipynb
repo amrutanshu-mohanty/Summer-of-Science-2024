{
  "nbformat": 4,
  "nbformat_minor": 0,
  "metadata": {
    "colab": {
      "provenance": []
    },
    "kernelspec": {
      "name": "python3",
      "display_name": "Python 3"
    },
    "language_info": {
      "name": "python"
    }
  },
  "cells": [
    {
      "cell_type": "markdown",
      "source": [
        "# Neural Networks Assignment"
      ],
      "metadata": {
        "id": "7qWapUs42A3l"
      }
    },
    {
      "cell_type": "code",
      "source": [
        "from google.colab import drive\n",
        "drive.mount('/content/drive')"
      ],
      "metadata": {
        "colab": {
          "base_uri": "https://localhost:8080/"
        },
        "id": "Snjcpw843Q8A",
        "outputId": "8c666289-d30b-401a-e13a-19ce17eee9f0"
      },
      "execution_count": null,
      "outputs": [
        {
          "output_type": "stream",
          "name": "stdout",
          "text": [
            "Drive already mounted at /content/drive; to attempt to forcibly remount, call drive.mount(\"/content/drive\", force_remount=True).\n"
          ]
        }
      ]
    },
    {
      "cell_type": "code",
      "source": [
        "!ls /content/drive/MyDrive/homer_bart.zip"
      ],
      "metadata": {
        "colab": {
          "base_uri": "https://localhost:8080/"
        },
        "id": "PHKsMniVElh5",
        "outputId": "d7174356-e823-4d08-dd59-5072781d222c"
      },
      "execution_count": null,
      "outputs": [
        {
          "output_type": "stream",
          "name": "stdout",
          "text": [
            "/content/drive/MyDrive/homer_bart.zip\n"
          ]
        }
      ]
    },
    {
      "cell_type": "code",
      "source": [
        "!pip install np_utils"
      ],
      "metadata": {
        "colab": {
          "base_uri": "https://localhost:8080/"
        },
        "id": "TD1FSJ06iWp_",
        "outputId": "0be7941b-85b3-4194-b77f-b75dd6ecacff"
      },
      "execution_count": 17,
      "outputs": [
        {
          "output_type": "stream",
          "name": "stdout",
          "text": [
            "Collecting np_utils\n",
            "  Downloading np_utils-0.6.0.tar.gz (61 kB)\n",
            "\u001b[2K     \u001b[90m━━━━━━━━━━━━━━━━━━━━━━━━━━━━━━━━━━━━━━━━\u001b[0m \u001b[32m62.0/62.0 kB\u001b[0m \u001b[31m1.6 MB/s\u001b[0m eta \u001b[36m0:00:00\u001b[0m\n",
            "\u001b[?25h  Preparing metadata (setup.py) ... \u001b[?25l\u001b[?25hdone\n",
            "Requirement already satisfied: numpy>=1.0 in /usr/local/lib/python3.10/dist-packages (from np_utils) (1.25.2)\n",
            "Building wheels for collected packages: np_utils\n",
            "  Building wheel for np_utils (setup.py) ... \u001b[?25l\u001b[?25hdone\n",
            "  Created wheel for np_utils: filename=np_utils-0.6.0-py3-none-any.whl size=56441 sha256=24aeb41922bb1e137cfbf59e61378d52fd66a21fd85a19a2988a27a84f57d121\n",
            "  Stored in directory: /root/.cache/pip/wheels/b6/c7/50/2307607f44366dd021209f660045f8d51cb976514d30be7cc7\n",
            "Successfully built np_utils\n",
            "Installing collected packages: np_utils\n",
            "Successfully installed np_utils-0.6.0\n"
          ]
        }
      ]
    },
    {
      "cell_type": "code",
      "source": [
        "import os\n",
        "import numpy as np\n",
        "from PIL import Image\n",
        "import tensorflow as tf\n",
        "from tensorflow.keras.preprocessing.image import img_to_array, load_img\n",
        "from sklearn.model_selection import train_test_split\n",
        "from zipfile import ZipFile\n",
        "\n",
        "\"\"\"\n",
        "# Unzip the file\n",
        "file_name = '/content/drive/MyDrive/homer_bart.zip'\n",
        "with ZipFile(file_name, 'r') as zip_ref:\n",
        "    zip_ref.extractall('/content/drive/MyDrive/homer_bart')\n",
        "\"\"\"\n",
        "\n",
        "# Define the path and parameters\n",
        "image_folder_path_bart = '/content/drive/MyDrive/homer_bart/Bart'\n",
        "image_folder_path_homer = '/content/drive/MyDrive/homer_bart/Homer'\n",
        "img_height, img_width = 64, 64\n",
        "\n",
        "# Load and convert images to NumPy arrays\n",
        "def load_images_from_folder(folder, img_height, img_width):\n",
        "    images = []\n",
        "    for filename in os.listdir(folder):\n",
        "        img_path = os.path.join(folder, filename)\n",
        "        img = load_img(img_path, target_size=(img_height, img_width))\n",
        "        img_array = img_to_array(img)\n",
        "        images.append(img_array)\n",
        "    return np.array(images)\n",
        "\n",
        "images_bart = load_images_from_folder(image_folder_path_bart, img_height, img_width)\n",
        "images_homer = load_images_from_folder(image_folder_path_homer, img_height, img_width)\n",
        "\n",
        "# Normalize the image data\n",
        "images_bart = images_bart / 255.0  # Normalize pixel values to [0, 1]\n",
        "images_homer = images_homer / 255.0\n",
        "\n",
        "# Split data into test and train sets\n",
        "X_train_bart, X_test_bart = train_test_split(images_bart, test_size=0.1, random_state=42)\n",
        "X_train_homer, X_test_homer = train_test_split(images_homer, test_size=0.1, random_state=42)\n",
        "\n",
        "print(\"Training data shape for bart:\", X_train_bart.shape)\n",
        "print(\"Validation data shape for bart:\", X_test_bart.shape)\n",
        "print(\"Training data shape for homer:\", X_train_homer.shape)\n",
        "print(\"Validation data shape for homer:\", X_test_homer.shape)\n"
      ],
      "metadata": {
        "colab": {
          "base_uri": "https://localhost:8080/"
        },
        "id": "yburV8g9CN80",
        "outputId": "549db391-cff3-4213-c770-2a9fca9c227f"
      },
      "execution_count": null,
      "outputs": [
        {
          "output_type": "stream",
          "name": "stdout",
          "text": [
            "Training data shape for bart: (144, 64, 64, 3)\n",
            "Validation data shape for bart: (16, 64, 64, 3)\n",
            "Training data shape for homer: (98, 64, 64, 3)\n",
            "Validation data shape for homer: (11, 64, 64, 3)\n"
          ]
        }
      ]
    },
    {
      "cell_type": "code",
      "source": [
        "Y_train_bart = np.zeros(X_train_bart.shape[0])\n",
        "Y_test_bart = np.zeros(X_test_bart.shape[0])\n",
        "Y_train_homer = np.ones(X_train_homer.shape[0])\n",
        "Y_test_homer = np.ones(X_test_homer.shape[0])"
      ],
      "metadata": {
        "id": "792I_mOamOMw"
      },
      "execution_count": 31,
      "outputs": []
    },
    {
      "cell_type": "code",
      "source": [
        "# Need to shuffle the arrays\n",
        "# For now I'll concatenate\n",
        "\n",
        "X_train = np.concatenate((X_train_bart, X_train_homer), axis=0)\n",
        "Y_train = np.concatenate((Y_train_bart, Y_train_homer), axis=0)\n",
        "X_test = np.concatenate((X_test_bart, X_test_homer), axis=0)\n",
        "Y_test = np.concatenate((Y_test_bart, Y_test_homer), axis=0)"
      ],
      "metadata": {
        "id": "TMPN71CXrBRc"
      },
      "execution_count": 32,
      "outputs": []
    },
    {
      "cell_type": "code",
      "source": [
        "Y_train = Y_train.reshape(-1,1)\n",
        "Y_train.shape\n",
        "Y_test = Y_test.reshape(-1,1)\n",
        "Y_test.shape"
      ],
      "metadata": {
        "colab": {
          "base_uri": "https://localhost:8080/"
        },
        "id": "ZnNsrovBtlTo",
        "outputId": "13a3caba-178b-4f67-f893-0d7210e35d72"
      },
      "execution_count": 33,
      "outputs": [
        {
          "output_type": "execute_result",
          "data": {
            "text/plain": [
              "(27, 1)"
            ]
          },
          "metadata": {},
          "execution_count": 33
        }
      ]
    },
    {
      "cell_type": "code",
      "source": [
        "from keras.models import Sequential\n",
        "from keras.layers import Dense, Flatten\n",
        "from keras import utils"
      ],
      "metadata": {
        "id": "X1Bz8iHHhn-n"
      },
      "execution_count": 44,
      "outputs": []
    },
    {
      "cell_type": "code",
      "source": [
        "model = Sequential()\n",
        "model.add(Flatten(input_shape=(64, 64, 3)))  # Flatten the input\n",
        "model.add(Dense(24,activation='relu', input_shape=(64,64,3)))\n",
        "model.add(Dense(24, activation='relu'))\n",
        "model.add(Dense(18, activation='relu'))\n",
        "# output layer\n",
        "model.add(Dense(1, activation='sigmoid'))\n",
        "\n",
        "# compiling the sequential model\n",
        "model.compile(loss='binary_crossentropy', metrics=['accuracy'], optimizer='adam')\n",
        "model.summary()\n"
      ],
      "metadata": {
        "colab": {
          "base_uri": "https://localhost:8080/"
        },
        "id": "c1Dr9LEMf0aT",
        "outputId": "fcbe78db-fa2e-4339-b256-c9d35ce912fa"
      },
      "execution_count": 46,
      "outputs": [
        {
          "output_type": "stream",
          "name": "stdout",
          "text": [
            "Model: \"sequential_10\"\n",
            "_________________________________________________________________\n",
            " Layer (type)                Output Shape              Param #   \n",
            "=================================================================\n",
            " flatten_1 (Flatten)         (None, 12288)             0         \n",
            "                                                                 \n",
            " dense_38 (Dense)            (None, 24)                294936    \n",
            "                                                                 \n",
            " dense_39 (Dense)            (None, 24)                600       \n",
            "                                                                 \n",
            " dense_40 (Dense)            (None, 18)                450       \n",
            "                                                                 \n",
            " dense_41 (Dense)            (None, 1)                 19        \n",
            "                                                                 \n",
            "=================================================================\n",
            "Total params: 296005 (1.13 MB)\n",
            "Trainable params: 296005 (1.13 MB)\n",
            "Non-trainable params: 0 (0.00 Byte)\n",
            "_________________________________________________________________\n"
          ]
        }
      ]
    },
    {
      "cell_type": "code",
      "source": [
        "model.fit(X_train, Y_train, epochs=50, verbose=0, batch_size=32)"
      ],
      "metadata": {
        "colab": {
          "base_uri": "https://localhost:8080/"
        },
        "id": "_EuM1GFY-OBX",
        "outputId": "960f3c4c-6921-4adc-9e45-1a103eade78f"
      },
      "execution_count": 49,
      "outputs": [
        {
          "output_type": "execute_result",
          "data": {
            "text/plain": [
              "<keras.src.callbacks.History at 0x7b34a1b88a00>"
            ]
          },
          "metadata": {},
          "execution_count": 49
        }
      ]
    },
    {
      "cell_type": "code",
      "source": [
        "loss, accuracy = model.evaluate(X_test, Y_test, verbose=0)\n",
        "print(f'Test Accuracy: {accuracy * 100:.2f}%')\n"
      ],
      "metadata": {
        "colab": {
          "base_uri": "https://localhost:8080/"
        },
        "id": "TYhT4y4s-aK8",
        "outputId": "e70d2a00-e230-4d53-b1dc-9c7f07a5ec05"
      },
      "execution_count": 50,
      "outputs": [
        {
          "output_type": "stream",
          "name": "stdout",
          "text": [
            "Test Accuracy: 81.48%\n"
          ]
        }
      ]
    }
  ]
}